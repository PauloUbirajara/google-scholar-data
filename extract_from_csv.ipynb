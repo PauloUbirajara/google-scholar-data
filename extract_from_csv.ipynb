{
 "cells": [
  {
   "cell_type": "markdown",
   "metadata": {},
   "source": [
    "# 1) Imports"
   ]
  },
  {
   "cell_type": "code",
   "execution_count": 1,
   "metadata": {},
   "outputs": [],
   "source": [
    "from json import loads, JSONDecodeError\n",
    "from os.path import exists\n",
    "from re import match\n",
    "from requests import get\n",
    "from urllib.parse import urlparse\n",
    "\n",
    "import pandas as pd\n",
    "# Para poder usar o pd.read_excel\n",
    "# !pip list | findstr 'xlrd'"
   ]
  },
  {
   "cell_type": "markdown",
   "metadata": {},
   "source": [
    "# 2) Funções Auxiliares"
   ]
  },
  {
   "cell_type": "markdown",
   "metadata": {},
   "source": [
    "## 2.1) Obter dados da API\n",
    "- [Link do repositório](https://github.com/fredrike/googlescholar-api)"
   ]
  },
  {
   "cell_type": "code",
   "execution_count": 2,
   "metadata": {},
   "outputs": [],
   "source": [
    "def fetch_google_scholar_api(user_id: str) -> dict:\n",
    "\tendpoint = f'http://cse.bth.se/~fer/googlescholar-api/googlescholar.php?user={user_id}'\n",
    "\tpage = get(endpoint)\n",
    "\n",
    "\tif not page.ok:\n",
    "\t\traise Exception('Erro ao completar requisição para API')\n",
    "\n",
    "\ttry:\n",
    "\t\tresult = loads(page.text)\n",
    "\t\treturn result\n",
    "\t\t\n",
    "\texcept JSONDecodeError as json_err:\n",
    "\t\tprint(json_err)\n",
    "\t\traise Exception('Erro ao transformar conteúdo de página para dicionário')\n",
    "\n",
    "\texcept Exception as err:\n",
    "\t\tprint(err)\n",
    "\t\traise Exception('Erro ao obter dados da API')"
   ]
  },
  {
   "cell_type": "markdown",
   "metadata": {},
   "source": [
    "## 2.2) Obter id a partir do link de uma página de pesquisador"
   ]
  },
  {
   "cell_type": "code",
   "execution_count": 3,
   "metadata": {},
   "outputs": [],
   "source": [
    "def get_researcher_id(profile_url: str) -> str:\n",
    "\tresult = urlparse(profile_url)\n",
    "\tif not result.query:\n",
    "\t\traise Exception('Sem query')\n",
    "\n",
    "\tquery = result.query\n",
    "\tpattern = \"user=[0-9a-zA-Z]+\"\n",
    "\thas_user_id = match(pattern, query)\n",
    "\n",
    "\tif not has_user_id:\n",
    "\t\traise Exception('Sem id do usuário')\n",
    "\t\n",
    "\tuser_id = has_user_id.group().split('=')[1]\n",
    "\treturn user_id"
   ]
  },
  {
   "cell_type": "markdown",
   "metadata": {},
   "source": [
    "## 2.3) Obter nº de citações do último ano"
   ]
  },
  {
   "cell_type": "code",
   "execution_count": 4,
   "metadata": {},
   "outputs": [],
   "source": [
    "def get_latest_year_citation(user_info: dict) -> int:\n",
    "\t_, citations = [*user_info['citations_per_year'].items()][-1]\n",
    "\treturn citations"
   ]
  },
  {
   "cell_type": "markdown",
   "metadata": {},
   "source": [
    "## 2.4) Obter planilha como DataFrame"
   ]
  },
  {
   "cell_type": "code",
   "execution_count": 5,
   "metadata": {},
   "outputs": [],
   "source": [
    "def load_spreadsheet(file_path: str) -> pd.DataFrame:\n",
    "\tif not exists(file_path):\n",
    "\t\traise Exception(\"Planilha não existe\")\n",
    "\t\n",
    "\tdf_spreadsheet = pd.read_excel(file_path)\n",
    "\tdf_filtered_spreadsheet = df_spreadsheet.dropna(axis=1)\n",
    "\n",
    "\treturn df_filtered_spreadsheet"
   ]
  },
  {
   "cell_type": "markdown",
   "metadata": {},
   "source": [
    "# 3) Execução"
   ]
  },
  {
   "cell_type": "code",
   "execution_count": 6,
   "metadata": {},
   "outputs": [
    {
     "data": {
      "text/html": [
       "<div>\n",
       "<style scoped>\n",
       "    .dataframe tbody tr th:only-of-type {\n",
       "        vertical-align: middle;\n",
       "    }\n",
       "\n",
       "    .dataframe tbody tr th {\n",
       "        vertical-align: top;\n",
       "    }\n",
       "\n",
       "    .dataframe thead th {\n",
       "        text-align: right;\n",
       "    }\n",
       "</style>\n",
       "<table border=\"1\" class=\"dataframe\">\n",
       "  <thead>\n",
       "    <tr style=\"text-align: right;\">\n",
       "      <th></th>\n",
       "      <th>Pesquisador;</th>\n",
       "    </tr>\n",
       "  </thead>\n",
       "  <tbody>\n",
       "    <tr>\n",
       "      <th>0</th>\n",
       "      <td>https://scholar.google.com/citations?user=ztd9...</td>\n",
       "    </tr>\n",
       "    <tr>\n",
       "      <th>1</th>\n",
       "      <td>https://scholar.google.com/citations?user=dxEW...</td>\n",
       "    </tr>\n",
       "    <tr>\n",
       "      <th>2</th>\n",
       "      <td>https://scholar.google.com/citations?user=UX9G...</td>\n",
       "    </tr>\n",
       "  </tbody>\n",
       "</table>\n",
       "</div>"
      ],
      "text/plain": [
       "                                        Pesquisador;\n",
       "0  https://scholar.google.com/citations?user=ztd9...\n",
       "1  https://scholar.google.com/citations?user=dxEW...\n",
       "2  https://scholar.google.com/citations?user=UX9G..."
      ]
     },
     "execution_count": 6,
     "metadata": {},
     "output_type": "execute_result"
    }
   ],
   "source": [
    "planilha = 'sample.xls'\n",
    "df_planilha = load_spreadsheet(planilha)\n",
    "df_planilha"
   ]
  },
  {
   "cell_type": "code",
   "execution_count": 7,
   "metadata": {},
   "outputs": [],
   "source": [
    "def get_citations(researcher_url: str) -> int:\n",
    "\tuser_id = get_researcher_id(researcher_url)\n",
    "\tuser_info = fetch_google_scholar_api(user_id)\n",
    "\tcitations = get_latest_year_citation(user_info)\n",
    "\treturn citations"
   ]
  },
  {
   "cell_type": "code",
   "execution_count": 8,
   "metadata": {},
   "outputs": [
    {
     "data": {
      "text/html": [
       "<div>\n",
       "<style scoped>\n",
       "    .dataframe tbody tr th:only-of-type {\n",
       "        vertical-align: middle;\n",
       "    }\n",
       "\n",
       "    .dataframe tbody tr th {\n",
       "        vertical-align: top;\n",
       "    }\n",
       "\n",
       "    .dataframe thead th {\n",
       "        text-align: right;\n",
       "    }\n",
       "</style>\n",
       "<table border=\"1\" class=\"dataframe\">\n",
       "  <thead>\n",
       "    <tr style=\"text-align: right;\">\n",
       "      <th></th>\n",
       "      <th>Pesquisador;</th>\n",
       "      <th>Citações</th>\n",
       "    </tr>\n",
       "  </thead>\n",
       "  <tbody>\n",
       "    <tr>\n",
       "      <th>0</th>\n",
       "      <td>https://scholar.google.com/citations?user=ztd9...</td>\n",
       "      <td>6</td>\n",
       "    </tr>\n",
       "    <tr>\n",
       "      <th>1</th>\n",
       "      <td>https://scholar.google.com/citations?user=dxEW...</td>\n",
       "      <td>7</td>\n",
       "    </tr>\n",
       "    <tr>\n",
       "      <th>2</th>\n",
       "      <td>https://scholar.google.com/citations?user=UX9G...</td>\n",
       "      <td>81</td>\n",
       "    </tr>\n",
       "  </tbody>\n",
       "</table>\n",
       "</div>"
      ],
      "text/plain": [
       "                                        Pesquisador;  Citações\n",
       "0  https://scholar.google.com/citations?user=ztd9...         6\n",
       "1  https://scholar.google.com/citations?user=dxEW...         7\n",
       "2  https://scholar.google.com/citations?user=UX9G...        81"
      ]
     },
     "execution_count": 8,
     "metadata": {},
     "output_type": "execute_result"
    }
   ],
   "source": [
    "df_planilha['Citações'] = df_planilha['Pesquisador;'].apply(get_citations)\n",
    "df_planilha"
   ]
  }
 ],
 "metadata": {
  "interpreter": {
   "hash": "0bfe1746c5be8d4dfc4cdf84dc862dba6a4ae8e61b14249358cc3470f8348acc"
  },
  "kernelspec": {
   "display_name": "Python 3.10.4 ('web')",
   "language": "python",
   "name": "python3"
  },
  "language_info": {
   "codemirror_mode": {
    "name": "ipython",
    "version": 3
   },
   "file_extension": ".py",
   "mimetype": "text/x-python",
   "name": "python",
   "nbconvert_exporter": "python",
   "pygments_lexer": "ipython3",
   "version": "3.9.7"
  },
  "orig_nbformat": 4
 },
 "nbformat": 4,
 "nbformat_minor": 2
}
