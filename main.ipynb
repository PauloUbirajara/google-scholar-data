{
 "cells": [
  {
   "cell_type": "code",
   "execution_count": 27,
   "metadata": {},
   "outputs": [],
   "source": [
    "from json import loads, JSONDecodeError\n",
    "from os.path import exists\n",
    "from re import match\n",
    "from requests import get\n",
    "from urllib.parse import urlparse\n",
    "\n",
    "import pandas as pd"
   ]
  },
  {
   "cell_type": "markdown",
   "metadata": {},
   "source": [
    "# Obter dados da API\n",
    "- [Link do repositório](https://github.com/fredrike/googlescholar-api)"
   ]
  },
  {
   "cell_type": "code",
   "execution_count": 28,
   "metadata": {},
   "outputs": [],
   "source": [
    "def show_user_info(user_id):\n",
    "\tendpoint = f'http://cse.bth.se/~fer/googlescholar-api/googlescholar.php?user={user_id}'\n",
    "\tpage = get(endpoint)\n",
    "\n",
    "\tif not page.ok:\n",
    "\t\traise Exception('Erro ao completar requisição para API')\n",
    "\n",
    "\ttry:\n",
    "\t\tresult = loads(page.text)\n",
    "\t\treturn result\n",
    "\t\t\n",
    "\texcept JSONDecodeError as json_err:\n",
    "\t\tprint(json_err)\n",
    "\t\traise Exception('Erro ao transformar conteúdo de página para dicionário')\n",
    "\n",
    "\texcept Exception as err:\n",
    "\t\tprint(err)\n",
    "\t\traise Exception('Erro ao obter dados da API')\n",
    "\t\n",
    "\t# finally:\n",
    "\t# \tprint(page.text)"
   ]
  },
  {
   "cell_type": "markdown",
   "metadata": {},
   "source": [
    "# Obter id a partir do link de uma página de pesquisador"
   ]
  },
  {
   "cell_type": "code",
   "execution_count": 16,
   "metadata": {},
   "outputs": [],
   "source": [
    "def get_user_id_from_profile(profile_url):\n",
    "\tresult = urlparse(profile_url)\n",
    "\tif not result.query:\n",
    "\t\traise ValueError('Sem query')\n",
    "\n",
    "\tquery = result.query\n",
    "\tpattern = \"user=[0-9a-zA-Z]+\"\n",
    "\thas_user_id = match(pattern, query)\n",
    "\n",
    "\tif not has_user_id:\n",
    "\t\traise ValueError('Sem id do usuário')\n",
    "\t\n",
    "\tuser_id = has_user_id.group().split('=')[1]\n",
    "\treturn user_id"
   ]
  },
  {
   "cell_type": "markdown",
   "metadata": {},
   "source": [
    "# Obter nº de citações do último ano"
   ]
  },
  {
   "cell_type": "code",
   "execution_count": 37,
   "metadata": {},
   "outputs": [],
   "source": [
    "def get_latest_year_citation(user_info):\n",
    "\t_, citations = [*user_info['citations_per_year'].items()][-1]\n",
    "\treturn citations"
   ]
  },
  {
   "cell_type": "markdown",
   "metadata": {},
   "source": [
    "# Testes"
   ]
  },
  {
   "cell_type": "code",
   "execution_count": 11,
   "metadata": {},
   "outputs": [],
   "source": [
    "caio = 'https://scholar.google.com/citations?user=ztd9BnsAAAAJ&hl=pt-BR' # Caio Ponte\n",
    "carlos = 'https://scholar.google.com/citations?user=dxEWdrAAAAAJ&hl=pt-BR' # Carlos Caminha\n",
    "vasco = 'https://scholar.google.com/citations?user=UX9GgPgAAAAJ&hl=pt-BR' # Vasco Furtado\n",
    "\n",
    "profiles = [ caio, carlos, vasco ]"
   ]
  },
  {
   "cell_type": "code",
   "execution_count": 29,
   "metadata": {},
   "outputs": [
    {
     "name": "stdout",
     "output_type": "stream",
     "text": [
      "https://scholar.google.com/citations?user=ztd9BnsAAAAJ&hl=pt-BR\n",
      "Citações em 2022: 6\n",
      "https://scholar.google.com/citations?user=dxEWdrAAAAAJ&hl=pt-BR\n",
      "Citações em 2022: 7\n",
      "https://scholar.google.com/citations?user=UX9GgPgAAAAJ&hl=pt-BR\n",
      "Citações em 2022: 80\n"
     ]
    }
   ],
   "source": [
    "for profile in profiles:\n",
    "\tuser_id = get_user_id_from_profile(profile)\n",
    "\tprint(profile)\n",
    "\tprint(user_id)\n",
    "\tuser_info = show_user_info(user_id)\n",
    "\t# print(user_info)\n",
    "\tprint(get_latest_year_citation(user_info))"
   ]
  },
  {
   "cell_type": "markdown",
   "metadata": {},
   "source": [
    "# Ler planilha e atribuir nº de citações em nova coluna"
   ]
  },
  {
   "cell_type": "code",
   "execution_count": 38,
   "metadata": {},
   "outputs": [
    {
     "name": "stdout",
     "output_type": "stream",
     "text": [
      "                                         Pesquisador  Citações\n",
      "0  https://scholar.google.com/citations?user=ztd9...         6\n",
      "1  https://scholar.google.com/citations?user=dxEW...         7\n",
      "2  https://scholar.google.com/citations?user=UX9G...        80\n"
     ]
    }
   ],
   "source": [
    "researchers_csv = 'sample.csv'\n",
    "\n",
    "if not exists(researchers_csv):\n",
    "\traise Exception(\"Planilha não existente!\")\n",
    "\n",
    "df_researchers = pd.read_csv(researchers_csv, sep=';')\n",
    "df_researchers = df_researchers.dropna(axis=1)\n",
    "\n",
    "url_column = 'Pesquisador'\n",
    "citations_column = 'Citações'\n",
    "\n",
    "df_researchers[citations_column] = df_researchers[url_column].apply(\n",
    "\tlambda x: \n",
    "\tget_latest_year_citation(\n",
    "\t\tshow_user_info(\n",
    "\t\t\tget_user_id_from_profile(x)\n",
    "\t\t)\n",
    "\t)\n",
    ")\n",
    "print(df_researchers)"
   ]
  }
 ],
 "metadata": {
  "interpreter": {
   "hash": "0bfe1746c5be8d4dfc4cdf84dc862dba6a4ae8e61b14249358cc3470f8348acc"
  },
  "kernelspec": {
   "display_name": "Python 3.10.4 ('web')",
   "language": "python",
   "name": "python3"
  },
  "language_info": {
   "codemirror_mode": {
    "name": "ipython",
    "version": 3
   },
   "file_extension": ".py",
   "mimetype": "text/x-python",
   "name": "python",
   "nbconvert_exporter": "python",
   "pygments_lexer": "ipython3",
   "version": "3.10.4"
  },
  "orig_nbformat": 4
 },
 "nbformat": 4,
 "nbformat_minor": 2
}
